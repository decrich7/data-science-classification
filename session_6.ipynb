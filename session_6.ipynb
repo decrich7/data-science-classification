{
  "nbformat": 4,
  "nbformat_minor": 0,
  "metadata": {
    "colab": {
      "name": "session_6.ipynb",
      "provenance": [],
      "collapsed_sections": []
    },
    "kernelspec": {
      "name": "python3",
      "display_name": "Python 3"
    },
    "language_info": {
      "name": "python"
    }
  },
  "cells": [
    {
      "cell_type": "code",
      "execution_count": null,
      "metadata": {
        "id": "qbJI_8_3mPTw"
      },
      "outputs": [],
      "source": [
        "import pandas as pd"
      ]
    },
    {
      "cell_type": "code",
      "source": [
        "df = pd.read_excel('qqq.xlsx', skiprows=10)"
      ],
      "metadata": {
        "id": "NZ6RjHYwmYGy"
      },
      "execution_count": null,
      "outputs": []
    },
    {
      "cell_type": "code",
      "source": [
        "df.head(10)"
      ],
      "metadata": {
        "colab": {
          "base_uri": "https://localhost:8080/",
          "height": 597
        },
        "id": "gEiTLrGvmm-x",
        "outputId": "658a7689-f877-4a93-9249-c3b96827d2ff"
      },
      "execution_count": null,
      "outputs": [
        {
          "output_type": "execute_result",
          "data": {
            "text/html": [
              "\n",
              "  <div id=\"df-4c99ac92-1e88-4e79-a6c2-d4a50e0bb13f\">\n",
              "    <div class=\"colab-df-container\">\n",
              "      <div>\n",
              "<style scoped>\n",
              "    .dataframe tbody tr th:only-of-type {\n",
              "        vertical-align: middle;\n",
              "    }\n",
              "\n",
              "    .dataframe tbody tr th {\n",
              "        vertical-align: top;\n",
              "    }\n",
              "\n",
              "    .dataframe thead th {\n",
              "        text-align: right;\n",
              "    }\n",
              "</style>\n",
              "<table border=\"1\" class=\"dataframe\">\n",
              "  <thead>\n",
              "    <tr style=\"text-align: right;\">\n",
              "      <th></th>\n",
              "      <th>№ п/п</th>\n",
              "      <th>№\\nдокумента</th>\n",
              "      <th>Дата\\nрегистрации</th>\n",
              "      <th>Исх. №\\nДата</th>\n",
              "      <th>Адресат</th>\n",
              "      <th>Автор</th>\n",
              "      <th>Краткое\\nсодержание</th>\n",
              "      <th>Примечание</th>\n",
              "    </tr>\n",
              "  </thead>\n",
              "  <tbody>\n",
              "    <tr>\n",
              "      <th>0</th>\n",
              "      <td>1</td>\n",
              "      <td>WSR/1-838/2019</td>\n",
              "      <td>2019-04-09</td>\n",
              "      <td>208-409\\n08.04.2019</td>\n",
              "      <td>Уразов Р.Н.</td>\n",
              "      <td>Антонова С.В. (АО «Интерфакс»)</td>\n",
              "      <td>Вх - О возможности использования сетевого изда...</td>\n",
              "      <td>NaN</td>\n",
              "    </tr>\n",
              "    <tr>\n",
              "      <th>1</th>\n",
              "      <td>2</td>\n",
              "      <td>WSR/1-837/2019</td>\n",
              "      <td>2019-04-09</td>\n",
              "      <td>05-338\\n09.04.2019</td>\n",
              "      <td>Уразов Р.Н.</td>\n",
              "      <td>Картошкин С.А. (Министерство просвещения Росси...</td>\n",
              "      <td>Вх - Об участии в совещании по вопросу доработ...</td>\n",
              "      <td>NaN</td>\n",
              "    </tr>\n",
              "    <tr>\n",
              "      <th>2</th>\n",
              "      <td>3</td>\n",
              "      <td>WSR/1-835/2019</td>\n",
              "      <td>2019-04-09</td>\n",
              "      <td>И10-14/3137\\n09.04.2019</td>\n",
              "      <td>Уразов Р.Н.</td>\n",
              "      <td>Цивилев С.Е. (Администрация Кемеровской области)</td>\n",
              "      <td>Вх - О командировании Саликовой К. и Глушко Д....</td>\n",
              "      <td>NaN</td>\n",
              "    </tr>\n",
              "    <tr>\n",
              "      <th>3</th>\n",
              "      <td>4</td>\n",
              "      <td>WSR/1-834/2019</td>\n",
              "      <td>2019-04-09</td>\n",
              "      <td>Д2/7121-ИС\\n03.04.2019</td>\n",
              "      <td>Иванюк Л.А.</td>\n",
              "      <td>Волков Г.А. (Министерство транспорта Российско...</td>\n",
              "      <td>Вх - Об участии в Чемпионате мира по профессио...</td>\n",
              "      <td>NaN</td>\n",
              "    </tr>\n",
              "    <tr>\n",
              "      <th>4</th>\n",
              "      <td>5</td>\n",
              "      <td>WSR/1-833/2019</td>\n",
              "      <td>2019-04-09</td>\n",
              "      <td>15-20/06-911\\n08.04.2019</td>\n",
              "      <td>Уразов Р.Н.</td>\n",
              "      <td>Атанов И.В. (Ставропольский государственный аг...</td>\n",
              "      <td>Вх - Об участии в церемонии открытия Вузовског...</td>\n",
              "      <td>NaN</td>\n",
              "    </tr>\n",
              "    <tr>\n",
              "      <th>5</th>\n",
              "      <td>6</td>\n",
              "      <td>WSR/1-831/2019</td>\n",
              "      <td>2019-04-09</td>\n",
              "      <td>Исх01/0403\\n02.04.2019</td>\n",
              "      <td>Миронова С.В.</td>\n",
              "      <td>Островский А.В. (Губернатор Смоленской области)</td>\n",
              "      <td>Вх - Об участии в Чемпионате мира по профессио...</td>\n",
              "      <td>NaN</td>\n",
              "    </tr>\n",
              "    <tr>\n",
              "      <th>6</th>\n",
              "      <td>7</td>\n",
              "      <td>WSR/1-830/2019</td>\n",
              "      <td>2019-04-09</td>\n",
              "      <td>24-2/10/В-1940\\n14.03.2019</td>\n",
              "      <td>Уразов Р.Н.</td>\n",
              "      <td>Петрова С.В. (Министерство труда и социальной ...</td>\n",
              "      <td>Вх - О направлении протокола \"О ходе реализаци...</td>\n",
              "      <td>NaN</td>\n",
              "    </tr>\n",
              "    <tr>\n",
              "      <th>7</th>\n",
              "      <td>8</td>\n",
              "      <td>WSR/1.6-832/2019</td>\n",
              "      <td>2019-04-09</td>\n",
              "      <td>08-04-21/1408\\n08.04.2019</td>\n",
              "      <td>Тымчиков А.Ю.</td>\n",
              "      <td>Соппа И.В. (ФГБОУ ВО \"Московский политехническ...</td>\n",
              "      <td>Вх - О согласовании дат проведения Вузовского ...</td>\n",
              "      <td>NaN</td>\n",
              "    </tr>\n",
              "    <tr>\n",
              "      <th>8</th>\n",
              "      <td>9</td>\n",
              "      <td>WSR/1-836/2019</td>\n",
              "      <td>2019-04-09</td>\n",
              "      <td>3571/19\\n08.04.2019</td>\n",
              "      <td>Уразов Р.Н.</td>\n",
              "      <td>Бурганов Р.Т. (Министерство образования и наук...</td>\n",
              "      <td>О Национальном чемпионате 2019</td>\n",
              "      <td>NaN</td>\n",
              "    </tr>\n",
              "    <tr>\n",
              "      <th>9</th>\n",
              "      <td>10</td>\n",
              "      <td>WSR/1-829/2019</td>\n",
              "      <td>2019-04-08</td>\n",
              "      <td>05-337\\n08.04.2019</td>\n",
              "      <td>Уразов Р.Н.</td>\n",
              "      <td>Черноскутова И.А. (Министерство просвещения Ро...</td>\n",
              "      <td>Вх - О проведении заседания министров образова...</td>\n",
              "      <td>NaN</td>\n",
              "    </tr>\n",
              "  </tbody>\n",
              "</table>\n",
              "</div>\n",
              "      <button class=\"colab-df-convert\" onclick=\"convertToInteractive('df-4c99ac92-1e88-4e79-a6c2-d4a50e0bb13f')\"\n",
              "              title=\"Convert this dataframe to an interactive table.\"\n",
              "              style=\"display:none;\">\n",
              "        \n",
              "  <svg xmlns=\"http://www.w3.org/2000/svg\" height=\"24px\"viewBox=\"0 0 24 24\"\n",
              "       width=\"24px\">\n",
              "    <path d=\"M0 0h24v24H0V0z\" fill=\"none\"/>\n",
              "    <path d=\"M18.56 5.44l.94 2.06.94-2.06 2.06-.94-2.06-.94-.94-2.06-.94 2.06-2.06.94zm-11 1L8.5 8.5l.94-2.06 2.06-.94-2.06-.94L8.5 2.5l-.94 2.06-2.06.94zm10 10l.94 2.06.94-2.06 2.06-.94-2.06-.94-.94-2.06-.94 2.06-2.06.94z\"/><path d=\"M17.41 7.96l-1.37-1.37c-.4-.4-.92-.59-1.43-.59-.52 0-1.04.2-1.43.59L10.3 9.45l-7.72 7.72c-.78.78-.78 2.05 0 2.83L4 21.41c.39.39.9.59 1.41.59.51 0 1.02-.2 1.41-.59l7.78-7.78 2.81-2.81c.8-.78.8-2.07 0-2.86zM5.41 20L4 18.59l7.72-7.72 1.47 1.35L5.41 20z\"/>\n",
              "  </svg>\n",
              "      </button>\n",
              "      \n",
              "  <style>\n",
              "    .colab-df-container {\n",
              "      display:flex;\n",
              "      flex-wrap:wrap;\n",
              "      gap: 12px;\n",
              "    }\n",
              "\n",
              "    .colab-df-convert {\n",
              "      background-color: #E8F0FE;\n",
              "      border: none;\n",
              "      border-radius: 50%;\n",
              "      cursor: pointer;\n",
              "      display: none;\n",
              "      fill: #1967D2;\n",
              "      height: 32px;\n",
              "      padding: 0 0 0 0;\n",
              "      width: 32px;\n",
              "    }\n",
              "\n",
              "    .colab-df-convert:hover {\n",
              "      background-color: #E2EBFA;\n",
              "      box-shadow: 0px 1px 2px rgba(60, 64, 67, 0.3), 0px 1px 3px 1px rgba(60, 64, 67, 0.15);\n",
              "      fill: #174EA6;\n",
              "    }\n",
              "\n",
              "    [theme=dark] .colab-df-convert {\n",
              "      background-color: #3B4455;\n",
              "      fill: #D2E3FC;\n",
              "    }\n",
              "\n",
              "    [theme=dark] .colab-df-convert:hover {\n",
              "      background-color: #434B5C;\n",
              "      box-shadow: 0px 1px 3px 1px rgba(0, 0, 0, 0.15);\n",
              "      filter: drop-shadow(0px 1px 2px rgba(0, 0, 0, 0.3));\n",
              "      fill: #FFFFFF;\n",
              "    }\n",
              "  </style>\n",
              "\n",
              "      <script>\n",
              "        const buttonEl =\n",
              "          document.querySelector('#df-4c99ac92-1e88-4e79-a6c2-d4a50e0bb13f button.colab-df-convert');\n",
              "        buttonEl.style.display =\n",
              "          google.colab.kernel.accessAllowed ? 'block' : 'none';\n",
              "\n",
              "        async function convertToInteractive(key) {\n",
              "          const element = document.querySelector('#df-4c99ac92-1e88-4e79-a6c2-d4a50e0bb13f');\n",
              "          const dataTable =\n",
              "            await google.colab.kernel.invokeFunction('convertToInteractive',\n",
              "                                                     [key], {});\n",
              "          if (!dataTable) return;\n",
              "\n",
              "          const docLinkHtml = 'Like what you see? Visit the ' +\n",
              "            '<a target=\"_blank\" href=https://colab.research.google.com/notebooks/data_table.ipynb>data table notebook</a>'\n",
              "            + ' to learn more about interactive tables.';\n",
              "          element.innerHTML = '';\n",
              "          dataTable['output_type'] = 'display_data';\n",
              "          await google.colab.output.renderOutput(dataTable, element);\n",
              "          const docLink = document.createElement('div');\n",
              "          docLink.innerHTML = docLinkHtml;\n",
              "          element.appendChild(docLink);\n",
              "        }\n",
              "      </script>\n",
              "    </div>\n",
              "  </div>\n",
              "  "
            ],
            "text/plain": [
              "   № п/п  ... Примечание\n",
              "0      1  ...        NaN\n",
              "1      2  ...        NaN\n",
              "2      3  ...        NaN\n",
              "3      4  ...        NaN\n",
              "4      5  ...        NaN\n",
              "5      6  ...        NaN\n",
              "6      7  ...        NaN\n",
              "7      8  ...        NaN\n",
              "8      9  ...        NaN\n",
              "9     10  ...        NaN\n",
              "\n",
              "[10 rows x 8 columns]"
            ]
          },
          "metadata": {},
          "execution_count": 3
        }
      ]
    },
    {
      "cell_type": "markdown",
      "source": [
        "Удаление ненужных атрибутов"
      ],
      "metadata": {
        "id": "4dtdR7VuoAHw"
      }
    },
    {
      "cell_type": "code",
      "source": [
        "df = df.drop(columns=['№ п/п'], axis=1)\n",
        "df = df.drop(columns=['Примечание'], axis=1)\n",
        "df = df.drop(columns=['№\\nдокумента'], axis=1)\n",
        "df.head(10)"
      ],
      "metadata": {
        "colab": {
          "base_uri": "https://localhost:8080/",
          "height": 363
        },
        "id": "9cOzzJZRoNB2",
        "outputId": "29f45e71-e2a6-4875-e00b-83c7f452b10e"
      },
      "execution_count": null,
      "outputs": [
        {
          "output_type": "execute_result",
          "data": {
            "text/html": [
              "\n",
              "  <div id=\"df-70437740-2cf9-406d-b76c-c0daa2be342e\">\n",
              "    <div class=\"colab-df-container\">\n",
              "      <div>\n",
              "<style scoped>\n",
              "    .dataframe tbody tr th:only-of-type {\n",
              "        vertical-align: middle;\n",
              "    }\n",
              "\n",
              "    .dataframe tbody tr th {\n",
              "        vertical-align: top;\n",
              "    }\n",
              "\n",
              "    .dataframe thead th {\n",
              "        text-align: right;\n",
              "    }\n",
              "</style>\n",
              "<table border=\"1\" class=\"dataframe\">\n",
              "  <thead>\n",
              "    <tr style=\"text-align: right;\">\n",
              "      <th></th>\n",
              "      <th>Дата\\nрегистрации</th>\n",
              "      <th>Исх. №\\nДата</th>\n",
              "      <th>Адресат</th>\n",
              "      <th>Автор</th>\n",
              "      <th>Краткое\\nсодержание</th>\n",
              "    </tr>\n",
              "  </thead>\n",
              "  <tbody>\n",
              "    <tr>\n",
              "      <th>0</th>\n",
              "      <td>2019-04-09</td>\n",
              "      <td>208-409\\n08.04.2019</td>\n",
              "      <td>Уразов Р.Н.</td>\n",
              "      <td>Антонова С.В. (АО «Интерфакс»)</td>\n",
              "      <td>Вх - О возможности использования сетевого изда...</td>\n",
              "    </tr>\n",
              "    <tr>\n",
              "      <th>1</th>\n",
              "      <td>2019-04-09</td>\n",
              "      <td>05-338\\n09.04.2019</td>\n",
              "      <td>Уразов Р.Н.</td>\n",
              "      <td>Картошкин С.А. (Министерство просвещения Росси...</td>\n",
              "      <td>Вх - Об участии в совещании по вопросу доработ...</td>\n",
              "    </tr>\n",
              "    <tr>\n",
              "      <th>2</th>\n",
              "      <td>2019-04-09</td>\n",
              "      <td>И10-14/3137\\n09.04.2019</td>\n",
              "      <td>Уразов Р.Н.</td>\n",
              "      <td>Цивилев С.Е. (Администрация Кемеровской области)</td>\n",
              "      <td>Вх - О командировании Саликовой К. и Глушко Д....</td>\n",
              "    </tr>\n",
              "    <tr>\n",
              "      <th>3</th>\n",
              "      <td>2019-04-09</td>\n",
              "      <td>Д2/7121-ИС\\n03.04.2019</td>\n",
              "      <td>Иванюк Л.А.</td>\n",
              "      <td>Волков Г.А. (Министерство транспорта Российско...</td>\n",
              "      <td>Вх - Об участии в Чемпионате мира по профессио...</td>\n",
              "    </tr>\n",
              "    <tr>\n",
              "      <th>4</th>\n",
              "      <td>2019-04-09</td>\n",
              "      <td>15-20/06-911\\n08.04.2019</td>\n",
              "      <td>Уразов Р.Н.</td>\n",
              "      <td>Атанов И.В. (Ставропольский государственный аг...</td>\n",
              "      <td>Вх - Об участии в церемонии открытия Вузовског...</td>\n",
              "    </tr>\n",
              "    <tr>\n",
              "      <th>5</th>\n",
              "      <td>2019-04-09</td>\n",
              "      <td>Исх01/0403\\n02.04.2019</td>\n",
              "      <td>Миронова С.В.</td>\n",
              "      <td>Островский А.В. (Губернатор Смоленской области)</td>\n",
              "      <td>Вх - Об участии в Чемпионате мира по профессио...</td>\n",
              "    </tr>\n",
              "    <tr>\n",
              "      <th>6</th>\n",
              "      <td>2019-04-09</td>\n",
              "      <td>24-2/10/В-1940\\n14.03.2019</td>\n",
              "      <td>Уразов Р.Н.</td>\n",
              "      <td>Петрова С.В. (Министерство труда и социальной ...</td>\n",
              "      <td>Вх - О направлении протокола \"О ходе реализаци...</td>\n",
              "    </tr>\n",
              "    <tr>\n",
              "      <th>7</th>\n",
              "      <td>2019-04-09</td>\n",
              "      <td>08-04-21/1408\\n08.04.2019</td>\n",
              "      <td>Тымчиков А.Ю.</td>\n",
              "      <td>Соппа И.В. (ФГБОУ ВО \"Московский политехническ...</td>\n",
              "      <td>Вх - О согласовании дат проведения Вузовского ...</td>\n",
              "    </tr>\n",
              "    <tr>\n",
              "      <th>8</th>\n",
              "      <td>2019-04-09</td>\n",
              "      <td>3571/19\\n08.04.2019</td>\n",
              "      <td>Уразов Р.Н.</td>\n",
              "      <td>Бурганов Р.Т. (Министерство образования и наук...</td>\n",
              "      <td>О Национальном чемпионате 2019</td>\n",
              "    </tr>\n",
              "    <tr>\n",
              "      <th>9</th>\n",
              "      <td>2019-04-08</td>\n",
              "      <td>05-337\\n08.04.2019</td>\n",
              "      <td>Уразов Р.Н.</td>\n",
              "      <td>Черноскутова И.А. (Министерство просвещения Ро...</td>\n",
              "      <td>Вх - О проведении заседания министров образова...</td>\n",
              "    </tr>\n",
              "  </tbody>\n",
              "</table>\n",
              "</div>\n",
              "      <button class=\"colab-df-convert\" onclick=\"convertToInteractive('df-70437740-2cf9-406d-b76c-c0daa2be342e')\"\n",
              "              title=\"Convert this dataframe to an interactive table.\"\n",
              "              style=\"display:none;\">\n",
              "        \n",
              "  <svg xmlns=\"http://www.w3.org/2000/svg\" height=\"24px\"viewBox=\"0 0 24 24\"\n",
              "       width=\"24px\">\n",
              "    <path d=\"M0 0h24v24H0V0z\" fill=\"none\"/>\n",
              "    <path d=\"M18.56 5.44l.94 2.06.94-2.06 2.06-.94-2.06-.94-.94-2.06-.94 2.06-2.06.94zm-11 1L8.5 8.5l.94-2.06 2.06-.94-2.06-.94L8.5 2.5l-.94 2.06-2.06.94zm10 10l.94 2.06.94-2.06 2.06-.94-2.06-.94-.94-2.06-.94 2.06-2.06.94z\"/><path d=\"M17.41 7.96l-1.37-1.37c-.4-.4-.92-.59-1.43-.59-.52 0-1.04.2-1.43.59L10.3 9.45l-7.72 7.72c-.78.78-.78 2.05 0 2.83L4 21.41c.39.39.9.59 1.41.59.51 0 1.02-.2 1.41-.59l7.78-7.78 2.81-2.81c.8-.78.8-2.07 0-2.86zM5.41 20L4 18.59l7.72-7.72 1.47 1.35L5.41 20z\"/>\n",
              "  </svg>\n",
              "      </button>\n",
              "      \n",
              "  <style>\n",
              "    .colab-df-container {\n",
              "      display:flex;\n",
              "      flex-wrap:wrap;\n",
              "      gap: 12px;\n",
              "    }\n",
              "\n",
              "    .colab-df-convert {\n",
              "      background-color: #E8F0FE;\n",
              "      border: none;\n",
              "      border-radius: 50%;\n",
              "      cursor: pointer;\n",
              "      display: none;\n",
              "      fill: #1967D2;\n",
              "      height: 32px;\n",
              "      padding: 0 0 0 0;\n",
              "      width: 32px;\n",
              "    }\n",
              "\n",
              "    .colab-df-convert:hover {\n",
              "      background-color: #E2EBFA;\n",
              "      box-shadow: 0px 1px 2px rgba(60, 64, 67, 0.3), 0px 1px 3px 1px rgba(60, 64, 67, 0.15);\n",
              "      fill: #174EA6;\n",
              "    }\n",
              "\n",
              "    [theme=dark] .colab-df-convert {\n",
              "      background-color: #3B4455;\n",
              "      fill: #D2E3FC;\n",
              "    }\n",
              "\n",
              "    [theme=dark] .colab-df-convert:hover {\n",
              "      background-color: #434B5C;\n",
              "      box-shadow: 0px 1px 3px 1px rgba(0, 0, 0, 0.15);\n",
              "      filter: drop-shadow(0px 1px 2px rgba(0, 0, 0, 0.3));\n",
              "      fill: #FFFFFF;\n",
              "    }\n",
              "  </style>\n",
              "\n",
              "      <script>\n",
              "        const buttonEl =\n",
              "          document.querySelector('#df-70437740-2cf9-406d-b76c-c0daa2be342e button.colab-df-convert');\n",
              "        buttonEl.style.display =\n",
              "          google.colab.kernel.accessAllowed ? 'block' : 'none';\n",
              "\n",
              "        async function convertToInteractive(key) {\n",
              "          const element = document.querySelector('#df-70437740-2cf9-406d-b76c-c0daa2be342e');\n",
              "          const dataTable =\n",
              "            await google.colab.kernel.invokeFunction('convertToInteractive',\n",
              "                                                     [key], {});\n",
              "          if (!dataTable) return;\n",
              "\n",
              "          const docLinkHtml = 'Like what you see? Visit the ' +\n",
              "            '<a target=\"_blank\" href=https://colab.research.google.com/notebooks/data_table.ipynb>data table notebook</a>'\n",
              "            + ' to learn more about interactive tables.';\n",
              "          element.innerHTML = '';\n",
              "          dataTable['output_type'] = 'display_data';\n",
              "          await google.colab.output.renderOutput(dataTable, element);\n",
              "          const docLink = document.createElement('div');\n",
              "          docLink.innerHTML = docLinkHtml;\n",
              "          element.appendChild(docLink);\n",
              "        }\n",
              "      </script>\n",
              "    </div>\n",
              "  </div>\n",
              "  "
            ],
            "text/plain": [
              "  Дата\\nрегистрации  ...                                Краткое\\nсодержание\n",
              "0        2019-04-09  ...  Вх - О возможности использования сетевого изда...\n",
              "1        2019-04-09  ...  Вх - Об участии в совещании по вопросу доработ...\n",
              "2        2019-04-09  ...  Вх - О командировании Саликовой К. и Глушко Д....\n",
              "3        2019-04-09  ...  Вх - Об участии в Чемпионате мира по профессио...\n",
              "4        2019-04-09  ...  Вх - Об участии в церемонии открытия Вузовског...\n",
              "5        2019-04-09  ...  Вх - Об участии в Чемпионате мира по профессио...\n",
              "6        2019-04-09  ...  Вх - О направлении протокола \"О ходе реализаци...\n",
              "7        2019-04-09  ...  Вх - О согласовании дат проведения Вузовского ...\n",
              "8        2019-04-09  ...                     О Национальном чемпионате 2019\n",
              "9        2019-04-08  ...  Вх - О проведении заседания министров образова...\n",
              "\n",
              "[10 rows x 5 columns]"
            ]
          },
          "metadata": {},
          "execution_count": 4
        }
      ]
    },
    {
      "cell_type": "markdown",
      "source": [
        "разбиение на атрибуты\n"
      ],
      "metadata": {
        "id": "UVmWUgYJpno6"
      }
    },
    {
      "cell_type": "code",
      "source": [
        "date = df['Исх. №\\nДата'].str.split('\\n', expand=True)\n",
        "col = [2,3,4,5,6,7,8,9,10,11,12,13]\n",
        "date.drop(columns=col, axis=1, inplace=True)\n",
        "date.columns = ['Исх. №', 'Дата']\n",
        "# adresat = df['Адресат'].str.split('\\n')\n",
        "# df = df.drop(columns=['Адресат'], axis=1)\n",
        "df = pd.concat([df, date], axis=1)\n",
        "# df = pd.concat([df, adresat], axis=1)\n",
        "df = df.drop(columns=['Исх. №\\nДата'], axis=1)\n",
        "df"
      ],
      "metadata": {
        "colab": {
          "base_uri": "https://localhost:8080/",
          "height": 424
        },
        "id": "MaQ7sfGPpzWe",
        "outputId": "ac6045ee-1a4e-4f25-e158-243151fe494b"
      },
      "execution_count": null,
      "outputs": [
        {
          "output_type": "execute_result",
          "data": {
            "text/html": [
              "\n",
              "  <div id=\"df-013b5f9b-decc-4b8f-9426-ab3495078ddd\">\n",
              "    <div class=\"colab-df-container\">\n",
              "      <div>\n",
              "<style scoped>\n",
              "    .dataframe tbody tr th:only-of-type {\n",
              "        vertical-align: middle;\n",
              "    }\n",
              "\n",
              "    .dataframe tbody tr th {\n",
              "        vertical-align: top;\n",
              "    }\n",
              "\n",
              "    .dataframe thead th {\n",
              "        text-align: right;\n",
              "    }\n",
              "</style>\n",
              "<table border=\"1\" class=\"dataframe\">\n",
              "  <thead>\n",
              "    <tr style=\"text-align: right;\">\n",
              "      <th></th>\n",
              "      <th>Дата\\nрегистрации</th>\n",
              "      <th>Адресат</th>\n",
              "      <th>Автор</th>\n",
              "      <th>Краткое\\nсодержание</th>\n",
              "      <th>Исх. №</th>\n",
              "      <th>Дата</th>\n",
              "    </tr>\n",
              "  </thead>\n",
              "  <tbody>\n",
              "    <tr>\n",
              "      <th>0</th>\n",
              "      <td>2019-04-09</td>\n",
              "      <td>Уразов Р.Н.</td>\n",
              "      <td>Антонова С.В. (АО «Интерфакс»)</td>\n",
              "      <td>Вх - О возможности использования сетевого изда...</td>\n",
              "      <td>208-409</td>\n",
              "      <td>08.04.2019</td>\n",
              "    </tr>\n",
              "    <tr>\n",
              "      <th>1</th>\n",
              "      <td>2019-04-09</td>\n",
              "      <td>Уразов Р.Н.</td>\n",
              "      <td>Картошкин С.А. (Министерство просвещения Росси...</td>\n",
              "      <td>Вх - Об участии в совещании по вопросу доработ...</td>\n",
              "      <td>05-338</td>\n",
              "      <td>09.04.2019</td>\n",
              "    </tr>\n",
              "    <tr>\n",
              "      <th>2</th>\n",
              "      <td>2019-04-09</td>\n",
              "      <td>Уразов Р.Н.</td>\n",
              "      <td>Цивилев С.Е. (Администрация Кемеровской области)</td>\n",
              "      <td>Вх - О командировании Саликовой К. и Глушко Д....</td>\n",
              "      <td>И10-14/3137</td>\n",
              "      <td>09.04.2019</td>\n",
              "    </tr>\n",
              "    <tr>\n",
              "      <th>3</th>\n",
              "      <td>2019-04-09</td>\n",
              "      <td>Иванюк Л.А.</td>\n",
              "      <td>Волков Г.А. (Министерство транспорта Российско...</td>\n",
              "      <td>Вх - Об участии в Чемпионате мира по профессио...</td>\n",
              "      <td>Д2/7121-ИС</td>\n",
              "      <td>03.04.2019</td>\n",
              "    </tr>\n",
              "    <tr>\n",
              "      <th>4</th>\n",
              "      <td>2019-04-09</td>\n",
              "      <td>Уразов Р.Н.</td>\n",
              "      <td>Атанов И.В. (Ставропольский государственный аг...</td>\n",
              "      <td>Вх - Об участии в церемонии открытия Вузовског...</td>\n",
              "      <td>15-20/06-911</td>\n",
              "      <td>08.04.2019</td>\n",
              "    </tr>\n",
              "    <tr>\n",
              "      <th>...</th>\n",
              "      <td>...</td>\n",
              "      <td>...</td>\n",
              "      <td>...</td>\n",
              "      <td>...</td>\n",
              "      <td>...</td>\n",
              "      <td>...</td>\n",
              "    </tr>\n",
              "    <tr>\n",
              "      <th>4962</th>\n",
              "      <td>2017-11-01</td>\n",
              "      <td>Уразов Р.Н.</td>\n",
              "      <td>Медведев Д.А. (Аппарат Правительства Российско...</td>\n",
              "      <td>Протокол заседания Президиума Совета при Прези...</td>\n",
              "      <td>11</td>\n",
              "      <td>20.10.2017</td>\n",
              "    </tr>\n",
              "    <tr>\n",
              "      <th>4963</th>\n",
              "      <td>2017-11-01</td>\n",
              "      <td>Уразов Р.Н.</td>\n",
              "      <td>Синюгина Т.Ю. (Министерство образования и наук...</td>\n",
              "      <td>О проведении 21.11.2017 заседания организацион...</td>\n",
              "      <td>ТС-1164/06</td>\n",
              "      <td>31.10.2017</td>\n",
              "    </tr>\n",
              "    <tr>\n",
              "      <th>4964</th>\n",
              "      <td>2017-11-01</td>\n",
              "      <td>Уразов Р.Н.</td>\n",
              "      <td>Огородова Л.М. (Министерство образования и нау...</td>\n",
              "      <td>Протокол заседания рабочей группы приоритетног...</td>\n",
              "      <td>ЛО-95/06пр</td>\n",
              "      <td>None</td>\n",
              "    </tr>\n",
              "    <tr>\n",
              "      <th>4965</th>\n",
              "      <td>2017-11-01</td>\n",
              "      <td>Уразов Р.Н.</td>\n",
              "      <td>Огородова Л.М. (Министерство образования и нау...</td>\n",
              "      <td>Протокол заседания рабочей группы приоритетног...</td>\n",
              "      <td>ЛО-93/06пр</td>\n",
              "      <td>24.10.2017</td>\n",
              "    </tr>\n",
              "    <tr>\n",
              "      <th>4966</th>\n",
              "      <td>NaT</td>\n",
              "      <td>Уразов Р.Н.</td>\n",
              "      <td>Асаул Н.А. (Министерство транспорта Российской...</td>\n",
              "      <td>Участие в Чемпионате WorldSkills Hi-Tech Екате...</td>\n",
              "      <td>НА-29/15077</td>\n",
              "      <td>18.10.2017</td>\n",
              "    </tr>\n",
              "  </tbody>\n",
              "</table>\n",
              "<p>4967 rows × 6 columns</p>\n",
              "</div>\n",
              "      <button class=\"colab-df-convert\" onclick=\"convertToInteractive('df-013b5f9b-decc-4b8f-9426-ab3495078ddd')\"\n",
              "              title=\"Convert this dataframe to an interactive table.\"\n",
              "              style=\"display:none;\">\n",
              "        \n",
              "  <svg xmlns=\"http://www.w3.org/2000/svg\" height=\"24px\"viewBox=\"0 0 24 24\"\n",
              "       width=\"24px\">\n",
              "    <path d=\"M0 0h24v24H0V0z\" fill=\"none\"/>\n",
              "    <path d=\"M18.56 5.44l.94 2.06.94-2.06 2.06-.94-2.06-.94-.94-2.06-.94 2.06-2.06.94zm-11 1L8.5 8.5l.94-2.06 2.06-.94-2.06-.94L8.5 2.5l-.94 2.06-2.06.94zm10 10l.94 2.06.94-2.06 2.06-.94-2.06-.94-.94-2.06-.94 2.06-2.06.94z\"/><path d=\"M17.41 7.96l-1.37-1.37c-.4-.4-.92-.59-1.43-.59-.52 0-1.04.2-1.43.59L10.3 9.45l-7.72 7.72c-.78.78-.78 2.05 0 2.83L4 21.41c.39.39.9.59 1.41.59.51 0 1.02-.2 1.41-.59l7.78-7.78 2.81-2.81c.8-.78.8-2.07 0-2.86zM5.41 20L4 18.59l7.72-7.72 1.47 1.35L5.41 20z\"/>\n",
              "  </svg>\n",
              "      </button>\n",
              "      \n",
              "  <style>\n",
              "    .colab-df-container {\n",
              "      display:flex;\n",
              "      flex-wrap:wrap;\n",
              "      gap: 12px;\n",
              "    }\n",
              "\n",
              "    .colab-df-convert {\n",
              "      background-color: #E8F0FE;\n",
              "      border: none;\n",
              "      border-radius: 50%;\n",
              "      cursor: pointer;\n",
              "      display: none;\n",
              "      fill: #1967D2;\n",
              "      height: 32px;\n",
              "      padding: 0 0 0 0;\n",
              "      width: 32px;\n",
              "    }\n",
              "\n",
              "    .colab-df-convert:hover {\n",
              "      background-color: #E2EBFA;\n",
              "      box-shadow: 0px 1px 2px rgba(60, 64, 67, 0.3), 0px 1px 3px 1px rgba(60, 64, 67, 0.15);\n",
              "      fill: #174EA6;\n",
              "    }\n",
              "\n",
              "    [theme=dark] .colab-df-convert {\n",
              "      background-color: #3B4455;\n",
              "      fill: #D2E3FC;\n",
              "    }\n",
              "\n",
              "    [theme=dark] .colab-df-convert:hover {\n",
              "      background-color: #434B5C;\n",
              "      box-shadow: 0px 1px 3px 1px rgba(0, 0, 0, 0.15);\n",
              "      filter: drop-shadow(0px 1px 2px rgba(0, 0, 0, 0.3));\n",
              "      fill: #FFFFFF;\n",
              "    }\n",
              "  </style>\n",
              "\n",
              "      <script>\n",
              "        const buttonEl =\n",
              "          document.querySelector('#df-013b5f9b-decc-4b8f-9426-ab3495078ddd button.colab-df-convert');\n",
              "        buttonEl.style.display =\n",
              "          google.colab.kernel.accessAllowed ? 'block' : 'none';\n",
              "\n",
              "        async function convertToInteractive(key) {\n",
              "          const element = document.querySelector('#df-013b5f9b-decc-4b8f-9426-ab3495078ddd');\n",
              "          const dataTable =\n",
              "            await google.colab.kernel.invokeFunction('convertToInteractive',\n",
              "                                                     [key], {});\n",
              "          if (!dataTable) return;\n",
              "\n",
              "          const docLinkHtml = 'Like what you see? Visit the ' +\n",
              "            '<a target=\"_blank\" href=https://colab.research.google.com/notebooks/data_table.ipynb>data table notebook</a>'\n",
              "            + ' to learn more about interactive tables.';\n",
              "          element.innerHTML = '';\n",
              "          dataTable['output_type'] = 'display_data';\n",
              "          await google.colab.output.renderOutput(dataTable, element);\n",
              "          const docLink = document.createElement('div');\n",
              "          docLink.innerHTML = docLinkHtml;\n",
              "          element.appendChild(docLink);\n",
              "        }\n",
              "      </script>\n",
              "    </div>\n",
              "  </div>\n",
              "  "
            ],
            "text/plain": [
              "     Дата\\nрегистрации      Адресат  ...        Исх. №        Дата\n",
              "0           2019-04-09  Уразов Р.Н.  ...       208-409  08.04.2019\n",
              "1           2019-04-09  Уразов Р.Н.  ...        05-338  09.04.2019\n",
              "2           2019-04-09  Уразов Р.Н.  ...   И10-14/3137  09.04.2019\n",
              "3           2019-04-09  Иванюк Л.А.  ...    Д2/7121-ИС  03.04.2019\n",
              "4           2019-04-09  Уразов Р.Н.  ...  15-20/06-911  08.04.2019\n",
              "...                ...          ...  ...           ...         ...\n",
              "4962        2017-11-01  Уразов Р.Н.  ...            11  20.10.2017\n",
              "4963        2017-11-01  Уразов Р.Н.  ...    ТС-1164/06  31.10.2017\n",
              "4964        2017-11-01  Уразов Р.Н.  ...    ЛО-95/06пр        None\n",
              "4965        2017-11-01  Уразов Р.Н.  ...    ЛО-93/06пр  24.10.2017\n",
              "4966               NaT  Уразов Р.Н.  ...   НА-29/15077  18.10.2017\n",
              "\n",
              "[4967 rows x 6 columns]"
            ]
          },
          "metadata": {},
          "execution_count": 5
        }
      ]
    },
    {
      "cell_type": "markdown",
      "source": [
        "организация"
      ],
      "metadata": {
        "id": "UVMcpvDTsvan"
      }
    },
    {
      "cell_type": "code",
      "source": [
        "org = df['Автор'].str.split('(', expand=True)\n",
        "org[1] = org[1].map(lambda x: str(x)[:-1])\n",
        "df['Автор'] = df['Автор'].str.split('(', expand=True)[0]\n",
        "columns = [0,2,3,4,5,6,7,8]\n",
        "org.drop(columns, inplace=True, axis=1)\n",
        "org.columns = ['Организация']\n",
        "qqq = pd.concat([df, org], axis=1)\n",
        "qqq\n"
      ],
      "metadata": {
        "colab": {
          "base_uri": "https://localhost:8080/",
          "height": 467
        },
        "id": "9hFUcdqEqY7d",
        "outputId": "dbc72586-99a8-4f79-de3f-bf72b2f4bbf3"
      },
      "execution_count": null,
      "outputs": [
        {
          "output_type": "execute_result",
          "data": {
            "text/html": [
              "\n",
              "  <div id=\"df-4a607538-de86-4a93-821c-d5dc7ba37469\">\n",
              "    <div class=\"colab-df-container\">\n",
              "      <div>\n",
              "<style scoped>\n",
              "    .dataframe tbody tr th:only-of-type {\n",
              "        vertical-align: middle;\n",
              "    }\n",
              "\n",
              "    .dataframe tbody tr th {\n",
              "        vertical-align: top;\n",
              "    }\n",
              "\n",
              "    .dataframe thead th {\n",
              "        text-align: right;\n",
              "    }\n",
              "</style>\n",
              "<table border=\"1\" class=\"dataframe\">\n",
              "  <thead>\n",
              "    <tr style=\"text-align: right;\">\n",
              "      <th></th>\n",
              "      <th>Дата\\nрегистрации</th>\n",
              "      <th>Адресат</th>\n",
              "      <th>Автор</th>\n",
              "      <th>Краткое\\nсодержание</th>\n",
              "      <th>Исх. №</th>\n",
              "      <th>Дата</th>\n",
              "      <th>Организация</th>\n",
              "    </tr>\n",
              "  </thead>\n",
              "  <tbody>\n",
              "    <tr>\n",
              "      <th>0</th>\n",
              "      <td>2019-04-09</td>\n",
              "      <td>Уразов Р.Н.</td>\n",
              "      <td>Антонова С.В.</td>\n",
              "      <td>Вх - О возможности использования сетевого изда...</td>\n",
              "      <td>208-409</td>\n",
              "      <td>08.04.2019</td>\n",
              "      <td>АО «Интерфакс»</td>\n",
              "    </tr>\n",
              "    <tr>\n",
              "      <th>1</th>\n",
              "      <td>2019-04-09</td>\n",
              "      <td>Уразов Р.Н.</td>\n",
              "      <td>Картошкин С.А.</td>\n",
              "      <td>Вх - Об участии в совещании по вопросу доработ...</td>\n",
              "      <td>05-338</td>\n",
              "      <td>09.04.2019</td>\n",
              "      <td>Министерство просвещения Российской Федерации</td>\n",
              "    </tr>\n",
              "    <tr>\n",
              "      <th>2</th>\n",
              "      <td>2019-04-09</td>\n",
              "      <td>Уразов Р.Н.</td>\n",
              "      <td>Цивилев С.Е.</td>\n",
              "      <td>Вх - О командировании Саликовой К. и Глушко Д....</td>\n",
              "      <td>И10-14/3137</td>\n",
              "      <td>09.04.2019</td>\n",
              "      <td>Администрация Кемеровской области</td>\n",
              "    </tr>\n",
              "    <tr>\n",
              "      <th>3</th>\n",
              "      <td>2019-04-09</td>\n",
              "      <td>Иванюк Л.А.</td>\n",
              "      <td>Волков Г.А.</td>\n",
              "      <td>Вх - Об участии в Чемпионате мира по профессио...</td>\n",
              "      <td>Д2/7121-ИС</td>\n",
              "      <td>03.04.2019</td>\n",
              "      <td>Министерство транспорта Российской Федерации</td>\n",
              "    </tr>\n",
              "    <tr>\n",
              "      <th>4</th>\n",
              "      <td>2019-04-09</td>\n",
              "      <td>Уразов Р.Н.</td>\n",
              "      <td>Атанов И.В.</td>\n",
              "      <td>Вх - Об участии в церемонии открытия Вузовског...</td>\n",
              "      <td>15-20/06-911</td>\n",
              "      <td>08.04.2019</td>\n",
              "      <td>Ставропольский государственный аграрный универ...</td>\n",
              "    </tr>\n",
              "    <tr>\n",
              "      <th>...</th>\n",
              "      <td>...</td>\n",
              "      <td>...</td>\n",
              "      <td>...</td>\n",
              "      <td>...</td>\n",
              "      <td>...</td>\n",
              "      <td>...</td>\n",
              "      <td>...</td>\n",
              "    </tr>\n",
              "    <tr>\n",
              "      <th>4962</th>\n",
              "      <td>2017-11-01</td>\n",
              "      <td>Уразов Р.Н.</td>\n",
              "      <td>Медведев Д.А.</td>\n",
              "      <td>Протокол заседания Президиума Совета при Прези...</td>\n",
              "      <td>11</td>\n",
              "      <td>20.10.2017</td>\n",
              "      <td>Аппарат Правительства Российской Федерации</td>\n",
              "    </tr>\n",
              "    <tr>\n",
              "      <th>4963</th>\n",
              "      <td>2017-11-01</td>\n",
              "      <td>Уразов Р.Н.</td>\n",
              "      <td>Синюгина Т.Ю.</td>\n",
              "      <td>О проведении 21.11.2017 заседания организацион...</td>\n",
              "      <td>ТС-1164/06</td>\n",
              "      <td>31.10.2017</td>\n",
              "      <td>Министерство образования и науки РФ. Заместите...</td>\n",
              "    </tr>\n",
              "    <tr>\n",
              "      <th>4964</th>\n",
              "      <td>2017-11-01</td>\n",
              "      <td>Уразов Р.Н.</td>\n",
              "      <td>Огородова Л.М.</td>\n",
              "      <td>Протокол заседания рабочей группы приоритетног...</td>\n",
              "      <td>ЛО-95/06пр</td>\n",
              "      <td>None</td>\n",
              "      <td>Министерство образования и науки Российской Фе...</td>\n",
              "    </tr>\n",
              "    <tr>\n",
              "      <th>4965</th>\n",
              "      <td>2017-11-01</td>\n",
              "      <td>Уразов Р.Н.</td>\n",
              "      <td>Огородова Л.М.</td>\n",
              "      <td>Протокол заседания рабочей группы приоритетног...</td>\n",
              "      <td>ЛО-93/06пр</td>\n",
              "      <td>24.10.2017</td>\n",
              "      <td>Министерство образования и науки Российской Фе...</td>\n",
              "    </tr>\n",
              "    <tr>\n",
              "      <th>4966</th>\n",
              "      <td>NaT</td>\n",
              "      <td>Уразов Р.Н.</td>\n",
              "      <td>Асаул Н.А.</td>\n",
              "      <td>Участие в Чемпионате WorldSkills Hi-Tech Екате...</td>\n",
              "      <td>НА-29/15077</td>\n",
              "      <td>18.10.2017</td>\n",
              "      <td>Министерство транспорта Российской Федерации</td>\n",
              "    </tr>\n",
              "  </tbody>\n",
              "</table>\n",
              "<p>4967 rows × 7 columns</p>\n",
              "</div>\n",
              "      <button class=\"colab-df-convert\" onclick=\"convertToInteractive('df-4a607538-de86-4a93-821c-d5dc7ba37469')\"\n",
              "              title=\"Convert this dataframe to an interactive table.\"\n",
              "              style=\"display:none;\">\n",
              "        \n",
              "  <svg xmlns=\"http://www.w3.org/2000/svg\" height=\"24px\"viewBox=\"0 0 24 24\"\n",
              "       width=\"24px\">\n",
              "    <path d=\"M0 0h24v24H0V0z\" fill=\"none\"/>\n",
              "    <path d=\"M18.56 5.44l.94 2.06.94-2.06 2.06-.94-2.06-.94-.94-2.06-.94 2.06-2.06.94zm-11 1L8.5 8.5l.94-2.06 2.06-.94-2.06-.94L8.5 2.5l-.94 2.06-2.06.94zm10 10l.94 2.06.94-2.06 2.06-.94-2.06-.94-.94-2.06-.94 2.06-2.06.94z\"/><path d=\"M17.41 7.96l-1.37-1.37c-.4-.4-.92-.59-1.43-.59-.52 0-1.04.2-1.43.59L10.3 9.45l-7.72 7.72c-.78.78-.78 2.05 0 2.83L4 21.41c.39.39.9.59 1.41.59.51 0 1.02-.2 1.41-.59l7.78-7.78 2.81-2.81c.8-.78.8-2.07 0-2.86zM5.41 20L4 18.59l7.72-7.72 1.47 1.35L5.41 20z\"/>\n",
              "  </svg>\n",
              "      </button>\n",
              "      \n",
              "  <style>\n",
              "    .colab-df-container {\n",
              "      display:flex;\n",
              "      flex-wrap:wrap;\n",
              "      gap: 12px;\n",
              "    }\n",
              "\n",
              "    .colab-df-convert {\n",
              "      background-color: #E8F0FE;\n",
              "      border: none;\n",
              "      border-radius: 50%;\n",
              "      cursor: pointer;\n",
              "      display: none;\n",
              "      fill: #1967D2;\n",
              "      height: 32px;\n",
              "      padding: 0 0 0 0;\n",
              "      width: 32px;\n",
              "    }\n",
              "\n",
              "    .colab-df-convert:hover {\n",
              "      background-color: #E2EBFA;\n",
              "      box-shadow: 0px 1px 2px rgba(60, 64, 67, 0.3), 0px 1px 3px 1px rgba(60, 64, 67, 0.15);\n",
              "      fill: #174EA6;\n",
              "    }\n",
              "\n",
              "    [theme=dark] .colab-df-convert {\n",
              "      background-color: #3B4455;\n",
              "      fill: #D2E3FC;\n",
              "    }\n",
              "\n",
              "    [theme=dark] .colab-df-convert:hover {\n",
              "      background-color: #434B5C;\n",
              "      box-shadow: 0px 1px 3px 1px rgba(0, 0, 0, 0.15);\n",
              "      filter: drop-shadow(0px 1px 2px rgba(0, 0, 0, 0.3));\n",
              "      fill: #FFFFFF;\n",
              "    }\n",
              "  </style>\n",
              "\n",
              "      <script>\n",
              "        const buttonEl =\n",
              "          document.querySelector('#df-4a607538-de86-4a93-821c-d5dc7ba37469 button.colab-df-convert');\n",
              "        buttonEl.style.display =\n",
              "          google.colab.kernel.accessAllowed ? 'block' : 'none';\n",
              "\n",
              "        async function convertToInteractive(key) {\n",
              "          const element = document.querySelector('#df-4a607538-de86-4a93-821c-d5dc7ba37469');\n",
              "          const dataTable =\n",
              "            await google.colab.kernel.invokeFunction('convertToInteractive',\n",
              "                                                     [key], {});\n",
              "          if (!dataTable) return;\n",
              "\n",
              "          const docLinkHtml = 'Like what you see? Visit the ' +\n",
              "            '<a target=\"_blank\" href=https://colab.research.google.com/notebooks/data_table.ipynb>data table notebook</a>'\n",
              "            + ' to learn more about interactive tables.';\n",
              "          element.innerHTML = '';\n",
              "          dataTable['output_type'] = 'display_data';\n",
              "          await google.colab.output.renderOutput(dataTable, element);\n",
              "          const docLink = document.createElement('div');\n",
              "          docLink.innerHTML = docLinkHtml;\n",
              "          element.appendChild(docLink);\n",
              "        }\n",
              "      </script>\n",
              "    </div>\n",
              "  </div>\n",
              "  "
            ],
            "text/plain": [
              "     Дата\\nрегистрации  ...                                        Организация\n",
              "0           2019-04-09  ...                                     АО «Интерфакс»\n",
              "1           2019-04-09  ...      Министерство просвещения Российской Федерации\n",
              "2           2019-04-09  ...                  Администрация Кемеровской области\n",
              "3           2019-04-09  ...       Министерство транспорта Российской Федерации\n",
              "4           2019-04-09  ...  Ставропольский государственный аграрный универ...\n",
              "...                ...  ...                                                ...\n",
              "4962        2017-11-01  ...         Аппарат Правительства Российской Федерации\n",
              "4963        2017-11-01  ...  Министерство образования и науки РФ. Заместите...\n",
              "4964        2017-11-01  ...  Министерство образования и науки Российской Фе...\n",
              "4965        2017-11-01  ...  Министерство образования и науки Российской Фе...\n",
              "4966               NaT  ...       Министерство транспорта Российской Федерации\n",
              "\n",
              "[4967 rows x 7 columns]"
            ]
          },
          "metadata": {},
          "execution_count": 6
        }
      ]
    },
    {
      "cell_type": "markdown",
      "source": [
        "анализ текста"
      ],
      "metadata": {
        "id": "JuqeZACb5Fb4"
      }
    },
    {
      "cell_type": "code",
      "source": [
        "# keys_word = ['содействии', 'предоставлении', 'возможности','предположительном количестве','брендировании','проведении','приглашении','участии', 'составе', 'сотрудничестве', 'замене', 'регистрации',\n",
        "#              'обучении', 'допуске', 'включении', 'направлении', 'оказании', 'оплате']\n",
        "# # s = qqq.Автор.values.tolist()\n",
        "# list_final = []\n",
        "# a = qqq['Краткое\\nсодержание'].values.tolist()\n",
        "\n",
        "# for i in a:\n",
        "#     for j in keys_word:\n",
        "#       if j in i:\n",
        "#         list_final.append(j)\n",
        "#         break\n",
        "#       list_final.append(None)\n",
        "# list_final\n",
        "# qqq['analis'] = list_final\n",
        "# s = qqq.Автор.values.tolist()\n",
        "# qqq"
      ],
      "metadata": {
        "id": "u75D-nUm8tPP"
      },
      "execution_count": null,
      "outputs": []
    },
    {
      "cell_type": "markdown",
      "source": [
        "#сессия 2"
      ],
      "metadata": {
        "id": "_eu9dbL-C2ep"
      }
    },
    {
      "cell_type": "markdown",
      "source": [
        "кол-во сообщений от авторов топ-5\n",
        "\n",
        "```\n",
        "# Выбран кодовый формат\n",
        "```\n",
        "\n",
        "\n",
        "```\n",
        "# Выбран кодовый формат\n",
        "```\n",
        "\n"
      ],
      "metadata": {
        "id": "hR7r2iNCzkog"
      }
    },
    {
      "cell_type": "code",
      "source": [
        "import matplotlib.pyplot as plt\n",
        "import numpy as np\n",
        "a = list(df['Автор'].value_counts()[0:6])\n",
        "e = df['Автор'].value_counts()[0:6]\n",
        "dict(e).keys()\n",
        "fig, ax = plt.subplots()\n",
        "ax.pie(a, labels=dict(e).keys())\n",
        "plt"
      ],
      "metadata": {
        "colab": {
          "base_uri": "https://localhost:8080/",
          "height": 266
        },
        "id": "PkQZ11H1zngV",
        "outputId": "a2a950dc-bbff-4749-e68d-ff9a5966bef6"
      },
      "execution_count": null,
      "outputs": [
        {
          "output_type": "execute_result",
          "data": {
            "text/plain": [
              "<module 'matplotlib.pyplot' from '/usr/local/lib/python3.7/dist-packages/matplotlib/pyplot.py'>"
            ]
          },
          "metadata": {},
          "execution_count": 123
        },
        {
          "output_type": "display_data",
          "data": {
            "image/png": "[encoded data removed]",
            "text/plain": [
              "<Figure size 432x288 with 1 Axes>"
            ]
          },
          "metadata": {}
        }
      ]
    },
    {
      "cell_type": "markdown",
      "source": [
        "кол-во документов топ-6\n",
        "\n",
        "\n"
      ],
      "metadata": {
        "id": "b5f0TSdf302y"
      }
    },
    {
      "cell_type": "code",
      "source": [
        "import matplotlib.pyplot as plt\n",
        "import numpy as np\n",
        "a = list(qqq['Организация'].value_counts()[0:6])\n",
        "e = qqq['Организация'].value_counts()[0:6]\n",
        "dict(e).keys()\n",
        "fig, ax = plt.subplots()\n",
        "ax.pie(a, labels=dict(e).keys())\n",
        "plt"
      ],
      "metadata": {
        "colab": {
          "base_uri": "https://localhost:8080/",
          "height": 266
        },
        "id": "IOgldGob37f1",
        "outputId": "01de8bff-3d0b-4c87-d580-a8a8429ba56e"
      },
      "execution_count": null,
      "outputs": [
        {
          "output_type": "execute_result",
          "data": {
            "text/plain": [
              "<module 'matplotlib.pyplot' from '/usr/local/lib/python3.7/dist-packages/matplotlib/pyplot.py'>"
            ]
          },
          "metadata": {},
          "execution_count": 178
        },
        {
          "output_type": "display_data",
          "data": {
            "image/png": "[encoded data removed]",
            "text/plain": [
              "<Figure size 432x288 with 1 Axes>"
            ]
          },
          "metadata": {}
        }
      ]
    },
    {
      "cell_type": "markdown",
      "source": [
        "Количество отправленных писем адресатам"
      ],
      "metadata": {
        "id": "sCo2nNyYCV4J"
      }
    },
    {
      "cell_type": "code",
      "source": [
        "import matplotlib.pyplot as plt\n",
        "import numpy as np\n",
        "a = list(qqq['Адресат'].value_counts()[0:6])\n",
        "e = qqq['Адресат'].value_counts()[0:6]\n",
        "dict(e).keys()\n",
        "fig, ax = plt.subplots()\n",
        "ax.bar(dict(e).keys(), a)\n",
        "plt"
      ],
      "metadata": {
        "colab": {
          "base_uri": "https://localhost:8080/",
          "height": 284
        },
        "id": "D4yc3Ib1BKzG",
        "outputId": "8cab5e6e-49f5-423e-eb0b-0330c5002847"
      },
      "execution_count": null,
      "outputs": [
        {
          "output_type": "execute_result",
          "data": {
            "text/plain": [
              "<module 'matplotlib.pyplot' from '/usr/local/lib/python3.7/dist-packages/matplotlib/pyplot.py'>"
            ]
          },
          "metadata": {},
          "execution_count": 182
        },
        {
          "output_type": "display_data",
          "data": {
            "image/png": "[encoded data removed]",
            "text/plain": [
              "<Figure size 432x288 with 1 Axes>"
            ]
          },
          "metadata": {
            "needs_background": "light"
          }
        }
      ]
    },
    {
      "cell_type": "markdown",
      "source": [
        "# Сессия 3"
      ],
      "metadata": {
        "id": "30SRXjbY2-rV"
      }
    },
    {
      "cell_type": "markdown",
      "source": [
        "разделение датафрейма на обучение и тестирование"
      ],
      "metadata": {
        "id": "v237dnj2bvlj"
      }
    },
    {
      "cell_type": "code",
      "source": [
        "from sklearn.model_selection import train_test_split\n",
        "X = qqq['Организация'].values\n",
        "y = qqq['Адресат'].values\n",
        "\n",
        "X_train, X_test, y_train, y_test = train_test_split(\n",
        "X, y, test_size=0.25, random_state=1000)"
      ],
      "metadata": {
        "id": "k3ezqhIeb1uU"
      },
      "execution_count": null,
      "outputs": []
    },
    {
      "cell_type": "markdown",
      "source": [
        "Векторизация текста(представление в числовом формате)"
      ],
      "metadata": {
        "id": "hrZcOqvYdFi5"
      }
    },
    {
      "cell_type": "code",
      "source": [
        "from sklearn.feature_extraction.text import CountVectorizer\n",
        "vectorizer = CountVectorizer()\n",
        "vectorizer.fit(X_train)\n",
        "X_train = vectorizer.transform(X_train)\n",
        "X_test = vectorizer.transform(X_test)\n",
        "pickle.dump(vectorizer, open('vec.sav', 'wb'))"
      ],
      "metadata": {
        "id": "emk1kC2ukEzo"
      },
      "execution_count": null,
      "outputs": []
    },
    {
      "cell_type": "markdown",
      "source": [
        "Алгоритм случайный лес показал точность ~ 55%"
      ],
      "metadata": {
        "id": "L2xvYwTL0sEm"
      }
    },
    {
      "cell_type": "code",
      "source": [
        "# я выбрал алгорит случайный лес за его высокую точность и гибкость\n",
        "from sklearn.ensemble import RandomForestClassifier\n",
        "classifier = RandomForestClassifier()\n",
        "classifier.fit(X_train, y_train) \n",
        "print(classifier.score(X_test, y_test))\n"
      ],
      "metadata": {
        "colab": {
          "base_uri": "https://localhost:8080/"
        },
        "id": "vJRR1h44k9XY",
        "outputId": "958216ee-a887-4da9-946d-c065e96b14ce"
      },
      "execution_count": null,
      "outputs": [
        {
          "output_type": "stream",
          "name": "stdout",
          "text": [
            "0.5571658615136876\n"
          ]
        }
      ]
    },
    {
      "cell_type": "markdown",
      "source": [
        "Алгоритм деревья показал точность ~ 54%"
      ],
      "metadata": {
        "id": "XWKrAnOi062i"
      }
    },
    {
      "cell_type": "code",
      "source": [
        "from sklearn.tree import DecisionTreeClassifier\n",
        "classifier = DecisionTreeClassifier()\n",
        "classifier.fit(X_train, y_train) \n",
        "print(classifier.score(X_test, y_test))\n"
      ],
      "metadata": {
        "colab": {
          "base_uri": "https://localhost:8080/"
        },
        "id": "AY5yN1qM1Ihv",
        "outputId": "d2068d02-67e3-473f-b88f-39e0512775e9"
      },
      "execution_count": null,
      "outputs": [
        {
          "output_type": "stream",
          "name": "stdout",
          "text": [
            "0.5394524959742351\n"
          ]
        }
      ]
    },
    {
      "cell_type": "markdown",
      "source": [
        "Алгоритм опорных векторов показал точность ~ 47%"
      ],
      "metadata": {
        "id": "Ea0b_3lu2FKe"
      }
    },
    {
      "cell_type": "code",
      "source": [
        "from sklearn.svm import SVC\n",
        "classifier = SVC(kernel='poly', degree=8)\n",
        "classifier.fit(X_train, y_train) \n",
        "print(classifier.score(X_test, y_test))"
      ],
      "metadata": {
        "colab": {
          "base_uri": "https://localhost:8080/"
        },
        "id": "m34fyp062K20",
        "outputId": "5c48e546-1a5d-4cd7-824e-ee20f2233cf9"
      },
      "execution_count": null,
      "outputs": [
        {
          "output_type": "stream",
          "name": "stdout",
          "text": [
            "0.4742351046698873\n"
          ]
        }
      ]
    },
    {
      "cell_type": "markdown",
      "source": [
        "Алгоритм Градиентный бустинг показал точность ~ 50%"
      ],
      "metadata": {
        "id": "9w6xVM2_JWah"
      }
    },
    {
      "cell_type": "code",
      "source": [
        "from sklearn.ensemble import GradientBoostingClassifier\n",
        "clf = GradientBoostingClassifier().fit(X_train, y_train)\n",
        "clf.score(X_train, y_train)\n"
      ],
      "metadata": {
        "colab": {
          "base_uri": "https://localhost:8080/"
        },
        "id": "zM7SDaGbGeCn",
        "outputId": "9f1f8873-1086-4271-8df9-1ebb45f3e9a2"
      },
      "execution_count": null,
      "outputs": [
        {
          "output_type": "execute_result",
          "data": {
            "text/plain": [
              "0.500805152979066"
            ]
          },
          "metadata": {},
          "execution_count": 96
        }
      ]
    },
    {
      "cell_type": "markdown",
      "source": [
        "Алгоритм Xgboost показал точность ~ 65%"
      ],
      "metadata": {
        "id": "4tBW1eQ9Nq2w"
      }
    },
    {
      "cell_type": "code",
      "source": [
        "import xgboost as xgb\n",
        "model = xgb.XGBClassifier()\n",
        "model.fit(X_train, y_train)\n",
        "print(model.score(X_test, y_test))"
      ],
      "metadata": {
        "colab": {
          "base_uri": "https://localhost:8080/"
        },
        "id": "bmDRdnzxKi7x",
        "outputId": "706f2a56-f2e2-46c5-d1ce-6548568e8d8b"
      },
      "execution_count": null,
      "outputs": [
        {
          "output_type": "stream",
          "name": "stdout",
          "text": [
            "0.6521739130434783\n"
          ]
        }
      ]
    },
    {
      "cell_type": "markdown",
      "source": [
        "ручная проверка"
      ],
      "metadata": {
        "id": "KPkRJPC54Ik-"
      }
    },
    {
      "cell_type": "code",
      "source": [
        "classifier.predict(X_test[8:9])[0], y_test[8]"
      ],
      "metadata": {
        "colab": {
          "base_uri": "https://localhost:8080/"
        },
        "id": "ksQryqPD4NY7",
        "outputId": "4db0c950-8ebe-4c40-f2ae-aad2e5c96bf9"
      },
      "execution_count": null,
      "outputs": [
        {
          "output_type": "execute_result",
          "data": {
            "text/plain": [
              "('Уразов Р.Н.', 'Уразов Р.Н.')"
            ]
          },
          "metadata": {},
          "execution_count": 118
        }
      ]
    },
    {
      "cell_type": "markdown",
      "source": [
        "Подборка различных фичей для повышения результата"
      ],
      "metadata": {
        "id": "YdQDEWrw5lnW"
      }
    },
    {
      "cell_type": "code",
      "source": [
        "# в итоге я выбрал алгоритм Случайный лес\n",
        "from sklearn.model_selection import train_test_split\n",
        "# X = qqq['Автор'] + qqq['Краткое\\nсодержание'] + qqq['Организация'] + qqq['Исх. №'] \n",
        "X = qqq['Краткое\\nсодержание']\n",
        "\n",
        "y = qqq['Адресат']\n",
        "X_train, X_test, y_train, y_test = train_test_split(\n",
        "X, y, test_size=0.25, random_state=1000)\n",
        "from sklearn.feature_extraction.text import CountVectorizer\n",
        "vectorizer = CountVectorizer(max_features=10000)\n",
        "vectorizer.fit(X_train)\n",
        "X_train = vectorizer.transform(X_train)\n",
        "X_test = vectorizer.transform(X_test)\n",
        "from sklearn.ensemble import RandomForestClassifier\n",
        "classifier = RandomForestClassifier()\n",
        "classifier.fit(X_train, y_train) \n",
        "print(classifier.score(X_test, y_test))\n",
        "\n",
        "# при добавлении фич Организация, Краткое содержание и Исходный номер точность модели выросла на ~ 13%\n",
        "# я опробовал эти фичи на остальных алгоритмах у дерева решений точность выросла до ~ 61%, а у опорных векторв упала до 36 %, но при все этом\n",
        "# лидирующем алгоритмом остается случайный лес с точностю около 70%"
      ],
      "metadata": {
        "colab": {
          "base_uri": "https://localhost:8080/"
        },
        "id": "FYRihlhL9sta",
        "outputId": "146089a8-9fd8-411e-8d72-0ad0416473e7"
      },
      "execution_count": null,
      "outputs": [
        {
          "output_type": "stream",
          "name": "stdout",
          "text": [
            "0.7004830917874396\n"
          ]
        }
      ]
    },
    {
      "cell_type": "code",
      "source": [
        "# небольшая визуализация, так сказать для самопроверки\n",
        "for i in range(1, 10):\n",
        "  print(classifier.predict(X_test[i:i+1])[0], ' '.join(str(y_test[i:i+1]).split()[1:3]))"
      ],
      "metadata": {
        "colab": {
          "base_uri": "https://localhost:8080/"
        },
        "id": "9pQierMtIVXE",
        "outputId": "f86cecfc-5109-4ab2-c19d-33fdb075608c"
      },
      "execution_count": null,
      "outputs": [
        {
          "output_type": "stream",
          "name": "stdout",
          "text": [
            "Недоспасова О.В. Недоспасова О.В.\n",
            "Уразов Р.Н. Уразов Р.Н.\n",
            "Глушко Д.Е. Глушко Д.Е.\n",
            "Митяева И.В. Митяева И.В.\n",
            "Глушко Д.Е. Глушко Д.Е.\n",
            "Глушко Д.Е. Глушко Д.Е.\n",
            "Уразов Р.Н. Уразов Р.Н.\n",
            "Уразов Р.Н. Уразов Р.Н.\n",
            "Крайчинская С.Б. Крайчинская С.Б.\n"
          ]
        }
      ]
    },
    {
      "cell_type": "markdown",
      "source": [
        "#Сессия 4"
      ],
      "metadata": {
        "id": "im5zn6IrjJWW"
      }
    },
    {
      "cell_type": "markdown",
      "source": [
        "обучение модели по описанию"
      ],
      "metadata": {
        "id": "nng2NPrHjW-U"
      }
    },
    {
      "cell_type": "code",
      "source": [
        "# print('Введите описание входниго документа')\n",
        "from sklearn.model_selection import train_test_split\n",
        "# X = qqq['Автор'] + qqq['Краткое\\nсодержание'] + qqq['Организация'] + qqq['Исх. №'] \n",
        "X = qqq['Краткое\\nсодержание']\n",
        "y = qqq['Адресат']\n",
        "X_train, X_test, y_train, y_test = train_test_split(\n",
        "X, y, test_size=0.25, random_state=1000)\n",
        "from sklearn.feature_extraction.text import CountVectorizer\n",
        "vectorizer = CountVectorizer(max_features=10000)\n",
        "vectorizer.fit(X_train)\n",
        "X_train = vectorizer.transform(X_train)\n",
        "X_test = vectorizer.transform(X_test)\n",
        "from sklearn.ensemble import RandomForestClassifier\n",
        "classifier = RandomForestClassifier()\n",
        "classifier.fit(X_train, y_train) \n",
        "print(classifier.score(X_test, y_test))"
      ],
      "metadata": {
        "colab": {
          "base_uri": "https://localhost:8080/"
        },
        "id": "NMOa9nwWjOe6",
        "outputId": "0e44cf8c-5c6c-4358-d804-e75b3cb871f6"
      },
      "execution_count": null,
      "outputs": [
        {
          "output_type": "stream",
          "name": "stdout",
          "text": [
            "0.6988727858293076\n"
          ]
        }
      ]
    },
    {
      "cell_type": "markdown",
      "source": [
        "бот"
      ],
      "metadata": {
        "id": "KQNGFLNej8qJ"
      }
    },
    {
      "cell_type": "code",
      "source": [
        "from pandas.core import series\n",
        "from sklearn.feature_extraction.text import CountVectorizer\n",
        "\n",
        "def get_adresat(descript):\n",
        "  ser = pd.Series(data=descript)\n",
        "  text = vectorizer.transform(ser)\n",
        "  from sklearn.ensemble import RandomForestClassifier\n",
        "  return classifier.predict(text)[0]\n",
        "\n",
        "def mb_adresat(descript):\n",
        "  ser = pd.Series(data=descript)\n",
        "  text = vectorizer.transform(ser)\n",
        "  from sklearn.ensemble import RandomForestClassifier\n",
        "  return classifier.predict(text)[0], f'Вероятные адресаты - {classifier.predict_proba(text)}'\n",
        "\n",
        "print('Чтобы определить адресата по описанию входного документа - %determine_addres\\nЧтобы узнать справку по командам - %help\\nЧтобы определить адресата по описанию входного документа на естественном языке - %determine_addres_natural_lang\\nВыбрать одного или несколько наиболее вероятных адресатов - %maybe')\n",
        "descript = input()\n",
        "if descript == '%determine_addres_natural_lang':\n",
        "  print('Введите команду на есттественном языке')\n",
        "  print('Адресат - ' + str(get_adresat(input())))\n",
        "if descript == '%maybe':\n",
        "  print('Введите краткое описание документа: ')\n",
        "  print('Адресат - ' + str(mb_adresat(input())))\n",
        "if descript == '%help':\n",
        "  print('Чтобы определить адресата по описанию входного документа - %determine_addres\\n \\\n",
        "  Чтобы определить адресата по описанию входного документа на естественном языке - %determine_addres_natural_lang')\n",
        "if descript == '%determine_addres':\n",
        "  print('Введите краткое описание документа: ')\n",
        "  print('Адресат - ' + str(get_adresat(input())))\n"
      ],
      "metadata": {
        "colab": {
          "base_uri": "https://localhost:8080/"
        },
        "id": "bHWpji91kNHT",
        "outputId": "8e775d30-141b-408c-e993-0347b8d639f6"
      },
      "execution_count": null,
      "outputs": [
        {
          "output_type": "stream",
          "name": "stdout",
          "text": [
            "Чтобы определить адресата по описанию входного документа - %determine_addres\n",
            "Чтобы узнать справку по командам - %help\n",
            "Чтобы определить адресата по описанию входного документа на естественном языке - %determine_addres_natural_lang\n",
            "Выбрать одного или несколько наиболее вероятных адресатов - %maybe\n",
            "%determine_addres\n",
            "Введите краткое описание документа: \n",
            "Вх - О возможности использования сетевого издания \"Информационный ресурс СПАРК\" в работе Союза\n",
            "Адресат - Уразов Р.Н.\n"
          ]
        }
      ]
    },
    {
      "cell_type": "markdown",
      "source": [
        "# Сессия 5"
      ],
      "metadata": {
        "id": "UrLQnpwY6p2B"
      }
    },
    {
      "cell_type": "markdown",
      "source": [
        "установка *flask-restful*"
      ],
      "metadata": {
        "id": "cSxkdWE27LHf"
      }
    },
    {
      "cell_type": "code",
      "source": [
        "!pip install flask-restful"
      ],
      "metadata": {
        "colab": {
          "base_uri": "https://localhost:8080/"
        },
        "id": "vu3mbWB-6u9e",
        "outputId": "47ff94da-ac04-42b5-b8d8-621b6e6ec139"
      },
      "execution_count": null,
      "outputs": [
        {
          "output_type": "stream",
          "name": "stdout",
          "text": [
            "Collecting flask-restful\n",
            "  Downloading Flask_RESTful-0.3.9-py2.py3-none-any.whl (25 kB)\n",
            "Requirement already satisfied: Flask>=0.8 in /usr/local/lib/python3.7/dist-packages (from flask-restful) (1.1.4)\n",
            "Collecting aniso8601>=0.82\n",
            "  Downloading aniso8601-9.0.1-py2.py3-none-any.whl (52 kB)\n",
            "\u001b[K     |████████████████████████████████| 52 kB 1.4 MB/s \n",
            "\u001b[?25hRequirement already satisfied: six>=1.3.0 in /usr/local/lib/python3.7/dist-packages (from flask-restful) (1.15.0)\n",
            "Requirement already satisfied: pytz in /usr/local/lib/python3.7/dist-packages (from flask-restful) (2018.9)\n",
            "Requirement already satisfied: click<8.0,>=5.1 in /usr/local/lib/python3.7/dist-packages (from Flask>=0.8->flask-restful) (7.1.2)\n",
            "Requirement already satisfied: itsdangerous<2.0,>=0.24 in /usr/local/lib/python3.7/dist-packages (from Flask>=0.8->flask-restful) (1.1.0)\n",
            "Requirement already satisfied: Werkzeug<2.0,>=0.15 in /usr/local/lib/python3.7/dist-packages (from Flask>=0.8->flask-restful) (1.0.1)\n",
            "Requirement already satisfied: Jinja2<3.0,>=2.10.1 in /usr/local/lib/python3.7/dist-packages (from Flask>=0.8->flask-restful) (2.11.3)\n",
            "Requirement already satisfied: MarkupSafe>=0.23 in /usr/local/lib/python3.7/dist-packages (from Jinja2<3.0,>=2.10.1->Flask>=0.8->flask-restful) (2.0.1)\n",
            "Installing collected packages: aniso8601, flask-restful\n",
            "Successfully installed aniso8601-9.0.1 flask-restful-0.3.9\n"
          ]
        }
      ]
    },
    {
      "cell_type": "markdown",
      "source": [
        "импорты и создание объектов app и api"
      ],
      "metadata": {
        "id": "vbDxU-D07UDv"
      }
    },
    {
      "cell_type": "code",
      "source": [
        "from flask import Flask\n",
        "from flask_restful import Api, Resource, reqparse\n",
        "import random\n",
        "app = Flask(__name__)\n",
        "api = Api(app)"
      ],
      "metadata": {
        "id": "z55-XBmB7RU4"
      },
      "execution_count": null,
      "outputs": []
    },
    {
      "cell_type": "code",
      "source": [
        "class Api(Resource):\n",
        "    def get(self):\n",
        "        parser = reqparse.RequestParser()\n",
        "        parser.add_argument(\"num_pp\")\n",
        "        parser.add_argument(\"num_doc\")\n",
        "        parser.add_argument(\"date_reg\")\n",
        "        parser.add_argument(\"orig_date\")\n",
        "        parser.add_argument(\"ather\")\n",
        "        parser.add_argument(\"summary\")\n",
        "        parser.add_argument(\"prim\")\n",
        "        params = parser.parse_args()\n",
        "        quote = {\n",
        "            \"num_pp\": params[\"num_pp\"],\n",
        "            \"num_doc\": params[\"num_doc\"],\n",
        "            \"date_reg\": params[\"date_reg\"],\n",
        "            \"orig_date\": params[\"orig_date\"],\n",
        "            \"ather\": params[\"ather\"],\n",
        "            \"summary\": params[\"summary\"],\n",
        "            \"prim\": params[\"prim\"]\n",
        "            }\n",
        "        return quote, 200\n",
        "\n",
        "#https://5000-cs-534459886760-default.cs-europe-west4-bhnf.cloudshell.dev/ai-quotes/?a=1\n",
        "api.add_resource(Api, \"/get-addressee\", \"/get-addressee/\", \"/get-addressee/\")\n",
        "if __name__ == '__main__':\n",
        "    app.run(debug=True)"
      ],
      "metadata": {
        "id": "tinYTR5B7aYq"
      },
      "execution_count": null,
      "outputs": []
    },
    {
      "cell_type": "code",
      "source": [
        "import requests\n",
        "!curl 'https://5000-cs-534459886760-default.cs-europe-west4-bhnf.cloudshell.dev/get-addressee/?summary=%D0%92%D1%85%20-%20%D0%9E%20%D0%B2%D0%BE%D0%B7%D0%BC%D0%BE%D0%B6%D0%BD%D0%BE%D1%81%D1%82%D0%B8%20%D0%B8%D1%81%D0%BF%D0%BE%D0%BB%D1%8C%D0%B7%D0%BE%D0%B2%D0%B0%D0%BD%D0%B8%D1%8F%20%D1%81%D0%B5%D1%82%D0%B5%D0%B2%D0%BE%D0%B3%D0%BE%20%D0%B8%D0%B7%D0%B4%D0%B0%D0%BD%D0%B8%D1%8F%20%22%D0%98%D0%BD%D1%84%D0%BE%D1%80%D0%BC%D0%B0%D1%86%D0%B8%D0%BE%D0%BD%D0%BD%D1%8B%D0%B9%20%D1%80%D0%B5%D1%81%D1%83%D1%80%D1%81%20%D0%A1%D0%9F%D0%90%D0%A0%D0%9A%22%20%D0%B2%20%D1%80%D0%B0%D0%B1%D0%BE%D1%82%D0%B5%20%D0%A1%D0%BE%D1%8E%D0%B7%D0%B0?num_pp=1&ather=%D0%90%D0%BD%D1%82%D0%BE%D0%BD%D0%BE%D0%B2%D0%B0%20%D0%A1.%D0%92.%20(%D0%90%D0%9E%20%C2%AB%D0%98%D0%BD%D1%82%D0%B5%D1%80%D1%84%D0%B0%D0%BA%D1%81%C2%BB)&num_doc=208-40908.04.2019&orig_date=WSR/1-838/2019'\n"
      ],
      "metadata": {
        "id": "t0W_JpBJZx3I"
      },
      "execution_count": null,
      "outputs": []
    },
    {
      "cell_type": "markdown",
      "source": [
        "![image.png](data:image/png;base64,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)"
      ],
      "metadata": {
        "id": "KeARXxaKjapE"
      }
    },
    {
      "cell_type": "markdown",
      "source": [
        ""
      ],
      "metadata": {
        "id": "3kMt7RISdZB7"
      }
    },
    {
      "cell_type": "code",
      "source": [
        "\n",
        "# !pip install cPickle\n",
        "# with open('test_sparse_array.dat', 'wb') as outfile:\n",
        "#     pickle.dump(X_train, outfile, pickle.HIGHEST_PROTOCOL)\n",
        "# import cPickle as pickle\n",
        "\n",
        "# with open('(test_sparse_array.dat', 'rb') as infile:\n",
        "#     x = pic)kle.load(infile)\n",
        "# your_matrix_back = sparse.load_npz(\"yourmatrix.npz\")\n",
        "\n"
      ],
      "metadata": {
        "id": "VC_g3j_S-iVS"
      },
      "execution_count": null,
      "outputs": []
    },
    {
      "cell_type": "code",
      "source": [
        ""
      ],
      "metadata": {
        "colab": {
          "base_uri": "https://localhost:8080/"
        },
        "id": "DVX06I4-KiB-",
        "outputId": "a613188c-afca-46ff-e762-f36934511e8a"
      },
      "execution_count": null,
      "outputs": [
        {
          "output_type": "stream",
          "name": "stdout",
          "text": [
            "0.6988727858293076\n"
          ]
        }
      ]
    }
  ]
}